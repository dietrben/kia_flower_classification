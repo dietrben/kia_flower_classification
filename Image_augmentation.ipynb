{
  "cells": [
    {
      "cell_type": "code",
      "execution_count": 19,
      "metadata": {
        "id": "EkoCNDw4YuMm"
      },
      "outputs": [],
      "source": [
        "import os\n",
        "from PIL import Image\n"
      ]
    },
    {
      "cell_type": "markdown",
      "metadata": {},
      "source": [
        "### Image Augmentation\n",
        "\n",
        "I made a greyscale Version of each picture. A lot of flowers have different colours. This makes the Model more focused on the form of the flowers instead of the colour."
      ]
    },
    {
      "cell_type": "code",
      "execution_count": 25,
      "metadata": {
        "id": "Uo4FvfeeiXCL"
      },
      "outputs": [],
      "source": [
        "# Paths for the original flower images\n",
        "flower_folders = [\n",
        "    \"flowerdataset/original/Daisy\", \"flowerdataset/original/Dandelion\",\n",
        "    \"flowerdataset/original/Lavender\", \"flowerdataset/original/Lilly\",\n",
        "    \"flowerdataset/original/Lotus\", \"flowerdataset/original/Orchid\",\n",
        "    \"flowerdataset/original/Rose\", \"flowerdataset/original/Sunflower\",\n",
        "    \"flowerdataset/original/Tulip\"\n",
        "]\n",
        "\n",
        "# Create grayscale images for each original image and save originals in the augmented folder\n",
        "for folder in flower_folders:\n",
        "    # Output folder for the augmented images\n",
        "    augmented_folder = os.path.join(\"flowerdataset/augmented\", os.path.basename(folder))\n",
        "    os.makedirs(augmented_folder, exist_ok=True)\n",
        "\n",
        "    # Load and process images of the current flower type\n",
        "    for filename in os.listdir(folder):\n",
        "        if filename.lower().endswith((\".jpg\", \".jpeg\", \".png\")):\n",
        "            img_path = os.path.join(folder, filename)\n",
        "\n",
        "            try:\n",
        "                # Open the image\n",
        "                img = Image.open(img_path)\n",
        "                \n",
        "                # Save the original image in the augmented folder\n",
        "                original_img_path = os.path.join(augmented_folder, filename)\n",
        "                img.save(original_img_path)\n",
        "                \n",
        "                # Convert to grayscale\n",
        "                img_gray = img.convert('L')\n",
        "                \n",
        "                # Save the grayscale image in the augmented folder\n",
        "                gray_img_path = os.path.join(augmented_folder, f\"{os.path.splitext(filename)[0]}_gray.jpg\")\n",
        "                img_gray.save(gray_img_path)\n",
        "\n",
        "            except Exception as e:\n",
        "                print(f\"Error processing {filename}: {e}\")"
      ]
    }
  ],
  "metadata": {
    "colab": {
      "provenance": []
    },
    "kernelspec": {
      "display_name": "Python 3",
      "name": "python3"
    },
    "language_info": {
      "codemirror_mode": {
        "name": "ipython",
        "version": 3
      },
      "file_extension": ".py",
      "mimetype": "text/x-python",
      "name": "python",
      "nbconvert_exporter": "python",
      "pygments_lexer": "ipython3",
      "version": "3.9.18"
    }
  },
  "nbformat": 4,
  "nbformat_minor": 0
}
